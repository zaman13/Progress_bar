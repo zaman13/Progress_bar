{
 "cells": [
  {
   "cell_type": "code",
   "execution_count": 11,
   "metadata": {},
   "outputs": [],
   "source": [
    "# Mohammad Asif Zaman\n",
    "# Date: June, 2018\n",
    "\n",
    "# A very simple function to display a progress bar for a loop. \n",
    "# Can be easily integrated in jupyter notebook. "
   ]
  },
  {
   "cell_type": "code",
   "execution_count": 12,
   "metadata": {},
   "outputs": [
    {
     "data": {
      "text/plain": [
       "progress_bar (generic function with 1 method)"
      ]
     },
     "execution_count": 12,
     "metadata": {},
     "output_type": "execute_result"
    }
   ],
   "source": [
    "# Progress_bar function. \n",
    "# To use as a separate file: Should be added as a progress_bar.jl file in the same folder as your code. In the main code, use: include(\"progress_bar.jl\");\n",
    "# To use in Jupyter notebook, just include the funciton in a cell and run it. \n",
    "\n",
    "# Input arguments: \n",
    "# current_step = current position in the loop. Use the loop index.\n",
    "# total_step = total number of steps in your loop. Note that it is assumed that the loop starts from 1 and ends at total_step.\n",
    "# Nbar = how many blocks you want to include in the progress bar.\n",
    "\n",
    "\n",
    "function progress_bar(current_step,total_step,Nblock)\n",
    "    \n",
    "    percentage = round(current_step*100/total_step,1);     # Calculate percentage completion\n",
    "    \n",
    "    print(\"\\r\") \n",
    "    if current_step == 1\n",
    "        print(\"Progress = 0.0\\% \");\n",
    "        for i = 1:Nblock    \n",
    "            print(\"\\u2591\");                      # Use the unicode character \"light shade\" to create the empty progress bar.\n",
    "        end\n",
    "        print(\"\\r\");\n",
    "    end\n",
    "    \n",
    "    \n",
    "    print(\"Progress = \",percentage, \"\\% \");         # Print percentage completion\n",
    "   \n",
    "    for i = 1:round(percentage*Nblock/100)        # Map the progress percentage to a 1 to Nblock grid.\n",
    "        print(\"\\u2593\");                          # Use the unicode character \"dark shade\" to fill the progress bar.\n",
    "    end\n",
    "\n",
    "end\n"
   ]
  },
  {
   "cell_type": "code",
   "execution_count": 13,
   "metadata": {
    "scrolled": true
   },
   "outputs": [
    {
     "name": "stdout",
     "output_type": "stream",
     "text": [
      "Progress = 100.0% ▓▓▓▓▓▓▓▓▓▓▓▓▓▓▓▓▓▓▓▓"
     ]
    }
   ],
   "source": [
    "# A simple code to test the progress_bar function.\n",
    "\n",
    "max_count = 40;    # define maximum count of the loop\n",
    "Nblock = 20;       # number of blocks in the bar plot\n",
    "\n",
    "for i = 1:max_count\n",
    "    progress_bar(i,max_count,Nblock);\n",
    "    \n",
    "    for k = 1:5e6    end   # delay loop. sleep() command causes some unexpected issues.\n",
    "   \n",
    "end"
   ]
  },
  {
   "cell_type": "code",
   "execution_count": null,
   "metadata": {},
   "outputs": [],
   "source": []
  }
 ],
 "metadata": {
  "kernelspec": {
   "display_name": "Julia 0.6.3",
   "language": "julia",
   "name": "julia-0.6"
  },
  "language_info": {
   "file_extension": ".jl",
   "mimetype": "application/julia",
   "name": "julia",
   "version": "0.6.3"
  }
 },
 "nbformat": 4,
 "nbformat_minor": 2
}
